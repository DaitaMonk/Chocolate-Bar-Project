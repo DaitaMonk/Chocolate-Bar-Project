{
 "cells": [
  {
   "cell_type": "markdown",
   "id": "fb9fe156",
   "metadata": {},
   "source": [
    "# <center>Cracking the Cocoa Code:</center> \n",
    "# <center>Unleashing Tasty Secrets for Chocolate Domination!</center>\n",
    "\n",
    "### 1.1 Introduction\n",
    "\n",
    "Welcome to the sweet and thrilling world of the chocolate industry! It's a wild ride filled with fierce competition and constant excitement. You see, chocolate lovers are always on the hunt for new and extraordinary experiences, demanding nothing but the best. To conquer this fantastical realm, businesses need to dive deep into the whims and desires of these chocolate enthusiasts, navigating the ever-shifting tides of consumer preferences and trends.\n",
    "\n",
    "But fear not, brave entrepreneurs! The chocolate bar dataset is here to save the day, offering a treasure trove of knowledge. It holds the key to unlocking profound insights into the mysterious realm of consumer behavior. Armed with this wisdom, businesses can strategically mold their chocolate creations to meet the demands of the market, capturing the hearts and taste buds of chocoholics everywhere.\n",
    "\n",
    "So, step into the world of cocoa magic, where dreams are made of chocolate, and let the dataset be your guide on this delectable adventure!\n",
    "\n",
    "### 1.2 Business Understanding\n",
    "\n",
    "Get ready for a tasty adventure in the chocolate industry! Our mission is to unwrap the secrets hidden within the chocolate bar dataset and discover the key ingredients for business triumph. By diving into consumer preferences and decision-making, we'll concoct data-driven strategies that will make mouths water and cash registers sing. Don't worry, though, this dataset is like a delicious treat with a few missing sprinkles. We wish it included marketing magic like advertising costs and research expenses, because that would have given us even more insight into customer ratings. But fear not, we'll still whip up some sweet solutions and gain a competitive edge in the market. Let the chocolate journey begin!\n",
    "\n",
    "#### 1.2.1 Business Problem\n",
    "\n",
    "In my chocolate-fueled adventure, I embarked on a quest to discover the best chocolate bar in town. Online ratings led me down a rabbit hole, filled with tantalizing questions:\n",
    "\n",
    "1. What flavor profiles make chocolate bars soar in customer ratings?\n",
    "2. How does cocoa percentage affect consumer preferences?\n",
    "3. Does the country of origin influence chocolate bar perceptions?\n",
    "\n",
    "Armed with curiosity, I ventured forth, ready to uncover these delicious mysteries. The quest for chocolate enlightenment had begun!\n",
    "\n",
    "These questions provide a starting point for investigating consumer preferences and the factors that influence ratings and choices in the chocolate bar dataset. The specific research questions can be refined based on the objectives of the study and the available data.\n",
    "\n",
    "#### 1.2.2 Performance Measure\n",
    "\n",
    "I have chosen correlation coefficient as a performance so we can assess the linear relationship between variables, with values ranging from -1 to 1. A correlation value close to 1 indicates a strong positive correlation, while a value close to -1 indicates a strong negative correlation. A value close to 0 suggests a weak or no correlation between the variables. This performance measure is valuable in various fields, including finance, economics, psychology, and research, to analyze the connections between different factors and make informed decisions based on the observed relationships. \n",
    "Success here will mean that I succeeded in locating the most important variable that leads to high chocolate bar rating.\n",
    "\n",
    "### 1.3 Data Understanding\n",
    "\n",
    "This database contains over 2,500 chocolate bar ratings from around the globe!\n",
    "\n",
    "Its focused on plain dark chocolate with an aim of appreciating the flavors of the cacao when made into chocolate. The ratings do not reflect health benefits, social missions, or organic status.\n",
    "\n",
    "Each chocolate is evaluated from a combination of both objective qualities and subjective interpretation. A rating here only represents an experience with one bar from one batch. Batch numbers, vintages and review dates are included in the database when known.\n",
    "\n",
    "#### Flavors of Cacao Rating System:\n",
    "\n",
    "Flavors of Cacao Rating System:\n",
    "5 = Elite (Transcending beyond the ordinary limits)\n",
    "4 = Premium (Superior flavor development, character and style)\n",
    "3 = Satisfactory(3.0) to praiseworthy(3.75) (well made with special qualities)\n",
    "2 = Disappointing (Passable but contains at least one significant flaw)\n",
    "1 = Unpleasant (mostly unpalatable)"
   ]
  },
  {
   "cell_type": "markdown",
   "id": "d2a154ed",
   "metadata": {},
   "source": [
    " "
   ]
  },
  {
   "cell_type": "markdown",
   "id": "d586d3c9",
   "metadata": {},
   "source": [
    "##### Python Libraries"
   ]
  },
  {
   "cell_type": "code",
   "execution_count": 56,
   "id": "22a03d07",
   "metadata": {},
   "outputs": [],
   "source": [
    "import pandas as pd\n",
    "import numpy as np\n",
    "import seaborn as sns\n",
    "\n",
    "import matplotlib.pyplot as plt\n",
    "import matplotlib.mlab as mlab\n",
    "import matplotlib\n",
    "\n",
    "plt.style.use('ggplot')\n",
    "from matplotlib.pyplot import figure\n",
    "\n",
    "%matplotlib inline\n",
    "matplotlib.rcParams['figure.figsize'] = (12,8)\n",
    "\n",
    "# To disable the warning that pandas generates when performing chained assignments.\n",
    "pd.options.mode.chained_assignment = None\n",
    "\n",
    "# To display max rows and columns\n",
    "pd.set_option(\"display.max_rows\", None)\n",
    "pd.set_option(\"display.max_columns\", None)"
   ]
  },
  {
   "cell_type": "markdown",
   "id": "451b78bd",
   "metadata": {},
   "source": [
    "#### 1.3.1 Let's load the data"
   ]
  },
  {
   "cell_type": "code",
   "execution_count": 57,
   "id": "f62f1ff5",
   "metadata": {},
   "outputs": [],
   "source": [
    "df = pd.read_csv(\"chocolate_bars.csv\")"
   ]
  },
  {
   "cell_type": "markdown",
   "id": "d3f1eaf6",
   "metadata": {},
   "source": [
    " "
   ]
  },
  {
   "cell_type": "markdown",
   "id": "66f08c48",
   "metadata": {},
   "source": [
    "**The info() method is a quick way to get description of the data, it shows the total number of rows, each attributes data type and Non-Null Count.**"
   ]
  },
  {
   "cell_type": "code",
   "execution_count": 58,
   "id": "f969105d",
   "metadata": {
    "scrolled": true
   },
   "outputs": [
    {
     "name": "stdout",
     "output_type": "stream",
     "text": [
      "<class 'pandas.core.frame.DataFrame'>\n",
      "RangeIndex: 2530 entries, 0 to 2529\n",
      "Data columns (total 11 columns):\n",
      " #   Column            Non-Null Count  Dtype  \n",
      "---  ------            --------------  -----  \n",
      " 0   id                2530 non-null   int64  \n",
      " 1   manufacturer      2530 non-null   object \n",
      " 2   company_location  2530 non-null   object \n",
      " 3   year_reviewed     2530 non-null   int64  \n",
      " 4   bean_origin       2530 non-null   object \n",
      " 5   bar_name          2530 non-null   object \n",
      " 6   cocoa_percent     2530 non-null   float64\n",
      " 7   num_ingredients   2443 non-null   float64\n",
      " 8   ingredients       2443 non-null   object \n",
      " 9   review            2530 non-null   object \n",
      " 10  rating            2530 non-null   float64\n",
      "dtypes: float64(3), int64(2), object(6)\n",
      "memory usage: 217.5+ KB\n"
     ]
    }
   ],
   "source": [
    "df.info()"
   ]
  },
  {
   "cell_type": "markdown",
   "id": "8eb66fea",
   "metadata": {},
   "source": [
    "- The DataFrame has a total of 2530 entries (rows) and 11 columns.\n",
    "- The columns in the DataFrame are named 'id', 'manufacturer', 'company_location', 'year_reviewed', 'bean_origin', 'bar_name', 'cocoa_percent', 'num_ingredients', 'ingredients', 'review', and 'rating'.\n",
    "- The 'id', 'manufacturer', 'company_location', and 'year_reviewed' columns are of integer data type (int64).\n",
    "- The 'bean_origin', 'bar_name', 'ingredients', and 'review' columns are of object data type (string).\n",
    "- The 'cocoa_percent', 'num_ingredients', and 'rating' columns are of float data type (float64).\n",
    "- The 'num_ingredients' column and the 'ingredients' column have some missing values (non-null count is less than the total number of entries).\n",
    "- The memory usage of the DataFrame is approximately 217.5 KB.\n",
    "\n",
    "This information provides a summary of the data types and missing values present in each column of the DataFrame. It gives an overview of the structure and composition of the DataFrame, which can help in further data exploration and analysis."
   ]
  },
  {
   "cell_type": "markdown",
   "id": "d23df302",
   "metadata": {},
   "source": [
    "**The code block below allows us to loop through the data and see if there is anything missing**"
   ]
  },
  {
   "cell_type": "code",
   "execution_count": 59,
   "id": "ac695394",
   "metadata": {
    "scrolled": false
   },
   "outputs": [
    {
     "name": "stdout",
     "output_type": "stream",
     "text": [
      "id - 0%\n",
      "manufacturer - 0%\n",
      "company_location - 0%\n",
      "year_reviewed - 0%\n",
      "bean_origin - 0%\n",
      "bar_name - 0%\n",
      "cocoa_percent - 0%\n",
      "num_ingredients - 3%\n",
      "ingredients - 3%\n",
      "review - 0%\n",
      "rating - 0%\n"
     ]
    }
   ],
   "source": [
    "for col in df.columns:\n",
    "    pct_missing = np.mean(df[col].isnull())\n",
    "    print('{} - {}%'.format(col, round(pct_missing*100)))"
   ]
  },
  {
   "cell_type": "markdown",
   "id": "95c709bf",
   "metadata": {},
   "source": [
    "- The 'id', 'manufacturer', 'company_location', 'year_reviewed', 'bean_origin', 'bar_name', 'cocoa_percent', 'review', and 'rating' columns have no missing values (0% missing).\n",
    "- The 'num_ingredients' and 'ingredients' columns have 3% missing values each.\n",
    "\n",
    "This output informs us that the proportion of missing values in each column of the DataFrame. It indicates that the 'num_ingredients' and 'ingredients' columns have some missing data, with approximately 3% of values being absent."
   ]
  },
  {
   "cell_type": "markdown",
   "id": "5adda435",
   "metadata": {},
   "source": [
    "**The describe() methods shows a summary of the numerical fields**"
   ]
  },
  {
   "cell_type": "code",
   "execution_count": 60,
   "id": "4edba97b",
   "metadata": {
    "scrolled": true
   },
   "outputs": [
    {
     "data": {
      "text/html": [
       "<div>\n",
       "<style scoped>\n",
       "    .dataframe tbody tr th:only-of-type {\n",
       "        vertical-align: middle;\n",
       "    }\n",
       "\n",
       "    .dataframe tbody tr th {\n",
       "        vertical-align: top;\n",
       "    }\n",
       "\n",
       "    .dataframe thead th {\n",
       "        text-align: right;\n",
       "    }\n",
       "</style>\n",
       "<table border=\"1\" class=\"dataframe\">\n",
       "  <thead>\n",
       "    <tr style=\"text-align: right;\">\n",
       "      <th></th>\n",
       "      <th>id</th>\n",
       "      <th>year_reviewed</th>\n",
       "      <th>cocoa_percent</th>\n",
       "      <th>num_ingredients</th>\n",
       "      <th>rating</th>\n",
       "    </tr>\n",
       "  </thead>\n",
       "  <tbody>\n",
       "    <tr>\n",
       "      <th>count</th>\n",
       "      <td>2530.000000</td>\n",
       "      <td>2530.000000</td>\n",
       "      <td>2530.000000</td>\n",
       "      <td>2443.000000</td>\n",
       "      <td>2530.000000</td>\n",
       "    </tr>\n",
       "    <tr>\n",
       "      <th>mean</th>\n",
       "      <td>1429.800791</td>\n",
       "      <td>2014.374308</td>\n",
       "      <td>71.639723</td>\n",
       "      <td>3.041343</td>\n",
       "      <td>3.196344</td>\n",
       "    </tr>\n",
       "    <tr>\n",
       "      <th>std</th>\n",
       "      <td>757.648556</td>\n",
       "      <td>3.968267</td>\n",
       "      <td>5.616724</td>\n",
       "      <td>0.913728</td>\n",
       "      <td>0.445321</td>\n",
       "    </tr>\n",
       "    <tr>\n",
       "      <th>min</th>\n",
       "      <td>5.000000</td>\n",
       "      <td>2006.000000</td>\n",
       "      <td>42.000000</td>\n",
       "      <td>1.000000</td>\n",
       "      <td>1.000000</td>\n",
       "    </tr>\n",
       "    <tr>\n",
       "      <th>25%</th>\n",
       "      <td>802.000000</td>\n",
       "      <td>2012.000000</td>\n",
       "      <td>70.000000</td>\n",
       "      <td>2.000000</td>\n",
       "      <td>3.000000</td>\n",
       "    </tr>\n",
       "    <tr>\n",
       "      <th>50%</th>\n",
       "      <td>1454.000000</td>\n",
       "      <td>2015.000000</td>\n",
       "      <td>70.000000</td>\n",
       "      <td>3.000000</td>\n",
       "      <td>3.250000</td>\n",
       "    </tr>\n",
       "    <tr>\n",
       "      <th>75%</th>\n",
       "      <td>2079.000000</td>\n",
       "      <td>2018.000000</td>\n",
       "      <td>74.000000</td>\n",
       "      <td>4.000000</td>\n",
       "      <td>3.500000</td>\n",
       "    </tr>\n",
       "    <tr>\n",
       "      <th>max</th>\n",
       "      <td>2712.000000</td>\n",
       "      <td>2021.000000</td>\n",
       "      <td>100.000000</td>\n",
       "      <td>6.000000</td>\n",
       "      <td>4.000000</td>\n",
       "    </tr>\n",
       "  </tbody>\n",
       "</table>\n",
       "</div>"
      ],
      "text/plain": [
       "                id  year_reviewed  cocoa_percent  num_ingredients       rating\n",
       "count  2530.000000    2530.000000    2530.000000      2443.000000  2530.000000\n",
       "mean   1429.800791    2014.374308      71.639723         3.041343     3.196344\n",
       "std     757.648556       3.968267       5.616724         0.913728     0.445321\n",
       "min       5.000000    2006.000000      42.000000         1.000000     1.000000\n",
       "25%     802.000000    2012.000000      70.000000         2.000000     3.000000\n",
       "50%    1454.000000    2015.000000      70.000000         3.000000     3.250000\n",
       "75%    2079.000000    2018.000000      74.000000         4.000000     3.500000\n",
       "max    2712.000000    2021.000000     100.000000         6.000000     4.000000"
      ]
     },
     "execution_count": 60,
     "metadata": {},
     "output_type": "execute_result"
    }
   ],
   "source": [
    "df.describe()"
   ]
  },
  {
   "cell_type": "markdown",
   "id": "45c8e68c",
   "metadata": {},
   "source": [
    "- count: Represents the number of non-null values in each column.\n",
    "- mean: Indicates the average value of each column.\n",
    "- std: Represents the standard deviation, which measures the dispersion or spread of values around the mean.\n",
    "- min: Specifies the minimum value observed in each column.\n",
    "- 25%: Represents the first quartile or the 25th percentile, indicating the value below which 25% of the data falls.\n",
    "- 50%: Represents the second quartile or the median, which divides the data into two equal halves.\n",
    "- 75%: Represents the third quartile or the 75th percentile, indicating the value below which 75% of the data falls.\n",
    "- max: Specifies the maximum value observed in each column.\n",
    "\n",
    "Now, let's interpret the output for each column:\n",
    "\n",
    "id: The 'id' column ranges from 5 to 2712, with a mean of approximately 1429.8.\n",
    "year_reviewed: The 'year_reviewed' column ranges from 2006 to 2021, with a mean of approximately 2014.37.\n",
    "cocoa_percent: The 'cocoa_percent' column ranges from 42 to 100, with a mean of approximately 71.64.\n",
    "num_ingredients: The 'num_ingredients' column ranges from 1 to 6, with a mean of approximately 3.04. There are missing values (count is 2443 instead of 2530).\n",
    "rating: The 'rating' column ranges from 1 to 4, with a mean of approximately 3.20.\n",
    "\n",
    "These summary statistics provide a high-level overview of the distribution and central tendency of each numerical column in the DataFrame. They help to understand the range, variation, and general patterns within the data."
   ]
  },
  {
   "cell_type": "markdown",
   "id": "7b0d92fd",
   "metadata": {},
   "source": [
    "**Lets look at the first five rows of the dataset using the head() method**"
   ]
  },
  {
   "cell_type": "code",
   "execution_count": 61,
   "id": "80af8e44",
   "metadata": {
    "scrolled": false
   },
   "outputs": [
    {
     "data": {
      "text/html": [
       "<div>\n",
       "<style scoped>\n",
       "    .dataframe tbody tr th:only-of-type {\n",
       "        vertical-align: middle;\n",
       "    }\n",
       "\n",
       "    .dataframe tbody tr th {\n",
       "        vertical-align: top;\n",
       "    }\n",
       "\n",
       "    .dataframe thead th {\n",
       "        text-align: right;\n",
       "    }\n",
       "</style>\n",
       "<table border=\"1\" class=\"dataframe\">\n",
       "  <thead>\n",
       "    <tr style=\"text-align: right;\">\n",
       "      <th></th>\n",
       "      <th>id</th>\n",
       "      <th>manufacturer</th>\n",
       "      <th>company_location</th>\n",
       "      <th>year_reviewed</th>\n",
       "      <th>bean_origin</th>\n",
       "      <th>bar_name</th>\n",
       "      <th>cocoa_percent</th>\n",
       "      <th>num_ingredients</th>\n",
       "      <th>ingredients</th>\n",
       "      <th>review</th>\n",
       "      <th>rating</th>\n",
       "    </tr>\n",
       "  </thead>\n",
       "  <tbody>\n",
       "    <tr>\n",
       "      <th>0</th>\n",
       "      <td>2454</td>\n",
       "      <td>5150</td>\n",
       "      <td>U.S.A.</td>\n",
       "      <td>2019</td>\n",
       "      <td>Tanzania</td>\n",
       "      <td>Kokoa Kamili, batch 1</td>\n",
       "      <td>76.0</td>\n",
       "      <td>3.0</td>\n",
       "      <td>B,S,C</td>\n",
       "      <td>rich cocoa, fatty, bready</td>\n",
       "      <td>3.25</td>\n",
       "    </tr>\n",
       "    <tr>\n",
       "      <th>1</th>\n",
       "      <td>2458</td>\n",
       "      <td>5150</td>\n",
       "      <td>U.S.A.</td>\n",
       "      <td>2019</td>\n",
       "      <td>Dominican Republic</td>\n",
       "      <td>Zorzal, batch 1</td>\n",
       "      <td>76.0</td>\n",
       "      <td>3.0</td>\n",
       "      <td>B,S,C</td>\n",
       "      <td>cocoa, vegetal, savory</td>\n",
       "      <td>3.50</td>\n",
       "    </tr>\n",
       "    <tr>\n",
       "      <th>2</th>\n",
       "      <td>2454</td>\n",
       "      <td>5150</td>\n",
       "      <td>U.S.A.</td>\n",
       "      <td>2019</td>\n",
       "      <td>Madagascar</td>\n",
       "      <td>Bejofo Estate, batch 1</td>\n",
       "      <td>76.0</td>\n",
       "      <td>3.0</td>\n",
       "      <td>B,S,C</td>\n",
       "      <td>cocoa, blackberry, full body</td>\n",
       "      <td>3.75</td>\n",
       "    </tr>\n",
       "    <tr>\n",
       "      <th>3</th>\n",
       "      <td>2542</td>\n",
       "      <td>5150</td>\n",
       "      <td>U.S.A.</td>\n",
       "      <td>2021</td>\n",
       "      <td>Fiji</td>\n",
       "      <td>Matasawalevu, batch 1</td>\n",
       "      <td>68.0</td>\n",
       "      <td>3.0</td>\n",
       "      <td>B,S,C</td>\n",
       "      <td>chewy, off, rubbery</td>\n",
       "      <td>3.00</td>\n",
       "    </tr>\n",
       "    <tr>\n",
       "      <th>4</th>\n",
       "      <td>2546</td>\n",
       "      <td>5150</td>\n",
       "      <td>U.S.A.</td>\n",
       "      <td>2021</td>\n",
       "      <td>Venezuela</td>\n",
       "      <td>Sur del Lago, batch 1</td>\n",
       "      <td>72.0</td>\n",
       "      <td>3.0</td>\n",
       "      <td>B,S,C</td>\n",
       "      <td>fatty, earthy, moss, nutty,chalky</td>\n",
       "      <td>3.00</td>\n",
       "    </tr>\n",
       "  </tbody>\n",
       "</table>\n",
       "</div>"
      ],
      "text/plain": [
       "     id manufacturer company_location  year_reviewed         bean_origin  \\\n",
       "0  2454         5150           U.S.A.           2019            Tanzania   \n",
       "1  2458         5150           U.S.A.           2019  Dominican Republic   \n",
       "2  2454         5150           U.S.A.           2019          Madagascar   \n",
       "3  2542         5150           U.S.A.           2021                Fiji   \n",
       "4  2546         5150           U.S.A.           2021           Venezuela   \n",
       "\n",
       "                 bar_name  cocoa_percent  num_ingredients ingredients  \\\n",
       "0   Kokoa Kamili, batch 1           76.0              3.0       B,S,C   \n",
       "1         Zorzal, batch 1           76.0              3.0       B,S,C   \n",
       "2  Bejofo Estate, batch 1           76.0              3.0       B,S,C   \n",
       "3   Matasawalevu, batch 1           68.0              3.0       B,S,C   \n",
       "4   Sur del Lago, batch 1           72.0              3.0       B,S,C   \n",
       "\n",
       "                              review  rating  \n",
       "0          rich cocoa, fatty, bready    3.25  \n",
       "1             cocoa, vegetal, savory    3.50  \n",
       "2       cocoa, blackberry, full body    3.75  \n",
       "3                chewy, off, rubbery    3.00  \n",
       "4  fatty, earthy, moss, nutty,chalky    3.00  "
      ]
     },
     "execution_count": 61,
     "metadata": {},
     "output_type": "execute_result"
    }
   ],
   "source": [
    "df.head()"
   ]
  },
  {
   "cell_type": "markdown",
   "id": "25a4f13c",
   "metadata": {},
   "source": [
    "There are 11 attributes in the dataset as follows:\n",
    "REF (reference number). The highest REF numbers were the last entries made. They are not unique values\n",
    "Manufacturer (Company name or manufacturer)\n",
    "Company_location (Country)\n",
    "year_reviewed (Date of review of the chocolate ratings)\n",
    "bean_origin (Origin of bean (Country))\n",
    " bar name (Specific bean origin)\n",
    "Cocoa percent\n",
    "Ingredients: Represents the number of ingredients in the chocolate; B = Beans, S = Sugar, S* = Sweetener other than white cane or beet sugar, C = Cocoa Butter, V = Vanilla, L = Lecithin, Sa = Salt)\n",
    "review (Most memorable characteristics)\n",
    "Rating"
   ]
  },
  {
   "cell_type": "markdown",
   "id": "45d66ef2",
   "metadata": {},
   "source": [
    "**Let's remove the incorrect value in the manufcturer's name column**"
   ]
  },
  {
   "cell_type": "code",
   "execution_count": 62,
   "id": "ffd03531",
   "metadata": {},
   "outputs": [],
   "source": [
    "df[\"manufacturer\"] = df[\"manufacturer\"].replace(\"5150\",np.nan)"
   ]
  },
  {
   "cell_type": "markdown",
   "id": "bed8bdd0",
   "metadata": {},
   "source": [
    "since we are not sure 5150 is a manufacturer name or an error let's make it a Null value so it can be removed along side other null values that will be removed."
   ]
  },
  {
   "cell_type": "markdown",
   "id": "ca572610",
   "metadata": {},
   "source": [
    "**Let's fill Null values in the num_ingredients column with its mean**"
   ]
  },
  {
   "cell_type": "code",
   "execution_count": 63,
   "id": "f6bd0acb",
   "metadata": {},
   "outputs": [],
   "source": [
    "df[\"num_ingredients\"].fillna(np.mean(df[\"num_ingredients\"]),inplace=True)"
   ]
  },
  {
   "cell_type": "markdown",
   "id": "f1407c92",
   "metadata": {},
   "source": [
    "only 3% of the the coulmn is missing filling in missing values with the mean of the column will have no significant effect on the analysis."
   ]
  },
  {
   "cell_type": "markdown",
   "id": "ca730142",
   "metadata": {},
   "source": [
    "**Dropping Null values with the dropna() method**"
   ]
  },
  {
   "cell_type": "code",
   "execution_count": 64,
   "id": "45e82372",
   "metadata": {},
   "outputs": [],
   "source": [
    "df = df.dropna()"
   ]
  },
  {
   "cell_type": "markdown",
   "id": "531a9495",
   "metadata": {},
   "source": [
    "dropped rows with missing vlues"
   ]
  },
  {
   "cell_type": "markdown",
   "id": "b8791ed0",
   "metadata": {},
   "source": [
    "**code below checks if there are any NULL values left**"
   ]
  },
  {
   "cell_type": "code",
   "execution_count": 65,
   "id": "1b946fee",
   "metadata": {
    "scrolled": false
   },
   "outputs": [
    {
     "data": {
      "text/plain": [
       "id                  0\n",
       "manufacturer        0\n",
       "company_location    0\n",
       "year_reviewed       0\n",
       "bean_origin         0\n",
       "bar_name            0\n",
       "cocoa_percent       0\n",
       "num_ingredients     0\n",
       "ingredients         0\n",
       "review              0\n",
       "rating              0\n",
       "dtype: int64"
      ]
     },
     "execution_count": 65,
     "metadata": {},
     "output_type": "execute_result"
    }
   ],
   "source": [
    "df.isnull().sum()"
   ]
  },
  {
   "cell_type": "markdown",
   "id": "cd47c725",
   "metadata": {},
   "source": [
    "Hurrah! we have gotten rid of the empty values in the best way possible!"
   ]
  },
  {
   "cell_type": "markdown",
   "id": "adf72a58",
   "metadata": {},
   "source": [
    "**Here we are assigning the rating system to a column based on rating**"
   ]
  },
  {
   "cell_type": "code",
   "execution_count": 66,
   "id": "163b4550",
   "metadata": {},
   "outputs": [],
   "source": [
    "df = df.reset_index()\n",
    "rs = []\n",
    "dr = df.rating\n",
    "for rw in dr:\n",
    "    if rw == 5.0:\n",
    "        rs.append(\"elite\")\n",
    "    elif rw >= 4.0:\n",
    "        rs.append(\"premium\")\n",
    "    elif rw >= 3.75:\n",
    "        rs.append(\"praiseworthy\")\n",
    "    elif rw >= 3.0:\n",
    "        rs.append(\"satisfactory\")\n",
    "    elif rw >= 2.0:\n",
    "        rs.append(\"disappointing\")\n",
    "    else:\n",
    "        rs.append(\"unpleasant\")\n",
    "df[\"rating_system\"] = rs"
   ]
  },
  {
   "cell_type": "markdown",
   "id": "6411cc5b",
   "metadata": {},
   "source": [
    "Flavors of Cacao Rating System: \n",
    "- 5 = Elite (Transcending beyond the ordinary limits) \n",
    "- 4 = Premium (Superior flavor development, character and style) \n",
    "- 3 = Satisfactory(3.0) to praiseworthy(3.75) (well made with special qualities) \n",
    "- 2 = Disappointing (Passable but contains at least one significant flaw) \n",
    "- 1 = Unpleasant (mostly unpalatable)"
   ]
  },
  {
   "cell_type": "markdown",
   "id": "b9f134cd",
   "metadata": {},
   "source": [
    "**A quick look at the data again after adding the rating_system column**"
   ]
  },
  {
   "cell_type": "code",
   "execution_count": 67,
   "id": "3ae534d1",
   "metadata": {},
   "outputs": [
    {
     "data": {
      "text/html": [
       "<div>\n",
       "<style scoped>\n",
       "    .dataframe tbody tr th:only-of-type {\n",
       "        vertical-align: middle;\n",
       "    }\n",
       "\n",
       "    .dataframe tbody tr th {\n",
       "        vertical-align: top;\n",
       "    }\n",
       "\n",
       "    .dataframe thead th {\n",
       "        text-align: right;\n",
       "    }\n",
       "</style>\n",
       "<table border=\"1\" class=\"dataframe\">\n",
       "  <thead>\n",
       "    <tr style=\"text-align: right;\">\n",
       "      <th></th>\n",
       "      <th>index</th>\n",
       "      <th>id</th>\n",
       "      <th>manufacturer</th>\n",
       "      <th>company_location</th>\n",
       "      <th>year_reviewed</th>\n",
       "      <th>bean_origin</th>\n",
       "      <th>bar_name</th>\n",
       "      <th>cocoa_percent</th>\n",
       "      <th>num_ingredients</th>\n",
       "      <th>ingredients</th>\n",
       "      <th>review</th>\n",
       "      <th>rating</th>\n",
       "      <th>rating_system</th>\n",
       "    </tr>\n",
       "  </thead>\n",
       "  <tbody>\n",
       "    <tr>\n",
       "      <th>0</th>\n",
       "      <td>7</td>\n",
       "      <td>797</td>\n",
       "      <td>A. Morin</td>\n",
       "      <td>France</td>\n",
       "      <td>2012</td>\n",
       "      <td>Bolivia</td>\n",
       "      <td>Bolivia</td>\n",
       "      <td>70.0</td>\n",
       "      <td>4.0</td>\n",
       "      <td>B,S,C,L</td>\n",
       "      <td>vegetal, nutty</td>\n",
       "      <td>3.50</td>\n",
       "      <td>satisfactory</td>\n",
       "    </tr>\n",
       "    <tr>\n",
       "      <th>1</th>\n",
       "      <td>8</td>\n",
       "      <td>797</td>\n",
       "      <td>A. Morin</td>\n",
       "      <td>France</td>\n",
       "      <td>2012</td>\n",
       "      <td>Peru</td>\n",
       "      <td>Peru</td>\n",
       "      <td>63.0</td>\n",
       "      <td>4.0</td>\n",
       "      <td>B,S,C,L</td>\n",
       "      <td>fruity, melon, roasty</td>\n",
       "      <td>3.75</td>\n",
       "      <td>praiseworthy</td>\n",
       "    </tr>\n",
       "    <tr>\n",
       "      <th>2</th>\n",
       "      <td>9</td>\n",
       "      <td>1011</td>\n",
       "      <td>A. Morin</td>\n",
       "      <td>France</td>\n",
       "      <td>2013</td>\n",
       "      <td>Panama</td>\n",
       "      <td>Panama</td>\n",
       "      <td>70.0</td>\n",
       "      <td>4.0</td>\n",
       "      <td>B,S,C,L</td>\n",
       "      <td>brief fruit note, earthy, nutty</td>\n",
       "      <td>2.75</td>\n",
       "      <td>disappointing</td>\n",
       "    </tr>\n",
       "    <tr>\n",
       "      <th>3</th>\n",
       "      <td>10</td>\n",
       "      <td>1015</td>\n",
       "      <td>A. Morin</td>\n",
       "      <td>France</td>\n",
       "      <td>2013</td>\n",
       "      <td>Colombia</td>\n",
       "      <td>Colombie</td>\n",
       "      <td>70.0</td>\n",
       "      <td>4.0</td>\n",
       "      <td>B,S,C,L</td>\n",
       "      <td>burnt rubber,alkalyzed notes</td>\n",
       "      <td>2.75</td>\n",
       "      <td>disappointing</td>\n",
       "    </tr>\n",
       "    <tr>\n",
       "      <th>4</th>\n",
       "      <td>11</td>\n",
       "      <td>1011</td>\n",
       "      <td>A. Morin</td>\n",
       "      <td>France</td>\n",
       "      <td>2013</td>\n",
       "      <td>Madagascar</td>\n",
       "      <td>Madagascar, Criollo</td>\n",
       "      <td>70.0</td>\n",
       "      <td>4.0</td>\n",
       "      <td>B,S,C,L</td>\n",
       "      <td>sticky, red fruit, sour</td>\n",
       "      <td>3.00</td>\n",
       "      <td>satisfactory</td>\n",
       "    </tr>\n",
       "  </tbody>\n",
       "</table>\n",
       "</div>"
      ],
      "text/plain": [
       "   index    id manufacturer company_location  year_reviewed bean_origin  \\\n",
       "0      7   797     A. Morin           France           2012     Bolivia   \n",
       "1      8   797     A. Morin           France           2012        Peru   \n",
       "2      9  1011     A. Morin           France           2013      Panama   \n",
       "3     10  1015     A. Morin           France           2013    Colombia   \n",
       "4     11  1011     A. Morin           France           2013  Madagascar   \n",
       "\n",
       "              bar_name  cocoa_percent  num_ingredients ingredients  \\\n",
       "0              Bolivia           70.0              4.0     B,S,C,L   \n",
       "1                 Peru           63.0              4.0     B,S,C,L   \n",
       "2               Panama           70.0              4.0     B,S,C,L   \n",
       "3             Colombie           70.0              4.0     B,S,C,L   \n",
       "4  Madagascar, Criollo           70.0              4.0     B,S,C,L   \n",
       "\n",
       "                            review  rating  rating_system  \n",
       "0                   vegetal, nutty    3.50   satisfactory  \n",
       "1            fruity, melon, roasty    3.75   praiseworthy  \n",
       "2  brief fruit note, earthy, nutty    2.75  disappointing  \n",
       "3     burnt rubber,alkalyzed notes    2.75  disappointing  \n",
       "4          sticky, red fruit, sour    3.00   satisfactory  "
      ]
     },
     "execution_count": 67,
     "metadata": {},
     "output_type": "execute_result"
    }
   ],
   "source": [
    "df.head()"
   ]
  },
  {
   "cell_type": "markdown",
   "id": "bcd58eb4",
   "metadata": {},
   "source": [
    " "
   ]
  },
  {
   "cell_type": "markdown",
   "id": "7ba0c6cb",
   "metadata": {},
   "source": [
    "#### 1.3.2 Exploratory Data Analysis "
   ]
  },
  {
   "cell_type": "markdown",
   "id": "19751d75",
   "metadata": {},
   "source": [
    "**Let's meet the top manufacturers**"
   ]
  },
  {
   "cell_type": "code",
   "execution_count": 68,
   "id": "698b422f",
   "metadata": {},
   "outputs": [
    {
     "data": {
      "image/png": "[encoded data removed]",
      "text/plain": [
       "<Figure size 864x576 with 1 Axes>"
      ]
     },
     "metadata": {
      "needs_background": "light"
     },
     "output_type": "display_data"
    }
   ],
   "source": [
    "top_movies = df[[\"manufacturer\", \"rating\"]].groupby(\"manufacturer\").mean().reset_index().sort_values(by=\"rating\",ascending=False).head(10)\n",
    "plt.bar(top_movies.manufacturer, top_movies.rating, color=\"red\", alpha=0.5)\n",
    "plt.title(\"Top 10 Manufacturer in tearms of Rating \")\n",
    "plt.xticks(rotation=90)\n",
    "plt.ylim([0,5])\n",
    "plt.xlabel(\"Manufacturer\")\n",
    "plt.ylabel(\"Rating\")\n",
    "plt.show()"
   ]
  },
  {
   "cell_type": "code",
   "execution_count": 69,
   "id": "f52cf371",
   "metadata": {
    "scrolled": true
   },
   "outputs": [
    {
     "data": {
      "text/html": [
       "<div>\n",
       "<style scoped>\n",
       "    .dataframe tbody tr th:only-of-type {\n",
       "        vertical-align: middle;\n",
       "    }\n",
       "\n",
       "    .dataframe tbody tr th {\n",
       "        vertical-align: top;\n",
       "    }\n",
       "\n",
       "    .dataframe thead th {\n",
       "        text-align: right;\n",
       "    }\n",
       "</style>\n",
       "<table border=\"1\" class=\"dataframe\">\n",
       "  <thead>\n",
       "    <tr style=\"text-align: right;\">\n",
       "      <th></th>\n",
       "      <th>manufacturer</th>\n",
       "      <th>rating</th>\n",
       "    </tr>\n",
       "  </thead>\n",
       "  <tbody>\n",
       "    <tr>\n",
       "      <th>374</th>\n",
       "      <td>Ocelot</td>\n",
       "      <td>3.8750</td>\n",
       "    </tr>\n",
       "    <tr>\n",
       "      <th>240</th>\n",
       "      <td>Heirloom Cacao Preservation (Zokoko)</td>\n",
       "      <td>3.8750</td>\n",
       "    </tr>\n",
       "    <tr>\n",
       "      <th>324</th>\n",
       "      <td>Matale</td>\n",
       "      <td>3.8125</td>\n",
       "    </tr>\n",
       "  </tbody>\n",
       "</table>\n",
       "</div>"
      ],
      "text/plain": [
       "                             manufacturer  rating\n",
       "374                                Ocelot  3.8750\n",
       "240  Heirloom Cacao Preservation (Zokoko)  3.8750\n",
       "324                                Matale  3.8125"
      ]
     },
     "execution_count": 69,
     "metadata": {},
     "output_type": "execute_result"
    }
   ],
   "source": [
    "top_movies = df[[\"manufacturer\", \"rating\", \"company_location\"]].groupby([\"manufacturer\"]).mean().reset_index().sort_values(by=\"rating\",ascending=False).head(3)\n",
    "top_movies"
   ]
  },
  {
   "cell_type": "markdown",
   "id": "a227c957",
   "metadata": {},
   "source": [
    "Manufacturer: Ocelot\n",
    "Rating: 3.8750\n",
    "This entry indicates that the manufacturer \"Ocelot\" has a rating of 3.8750.\n",
    "\n",
    "Manufacturer: Heirloom Cacao Preservation (Zokoko)\n",
    "Rating: 3.8750\n",
    "This entry represents another manufacturer named \"Heirloom Cacao Preservation\" (Zokoko). It has the same rating of 3.8750 as the previous entry. This indicates that both Ocelot and Heirloom Cacao Preservation have the same rating, suggesting that they might be comparable in terms of the criteria being evaluated."
   ]
  },
  {
   "cell_type": "markdown",
   "id": "0844ca39",
   "metadata": {},
   "source": [
    "**Let's take a tour of the countries and see the rating of each location** "
   ]
  },
  {
   "cell_type": "code",
   "execution_count": 70,
   "id": "ca480558",
   "metadata": {
    "scrolled": false
   },
   "outputs": [
    {
     "data": {
      "image/png": "[encoded data removed]",
      "text/plain": [
       "<Figure size 864x576 with 1 Axes>"
      ]
     },
     "metadata": {
      "needs_background": "light"
     },
     "output_type": "display_data"
    }
   ],
   "source": [
    "top_countries = df[[\"company_location\", \"rating\"]].groupby(\"company_location\").mean().reset_index().sort_values(by=\"rating\",ascending=False).head(10)\n",
    "plt.bar(top_countries[\"company_location\"], top_countries.rating, color=\"red\", alpha=0.5)\n",
    "plt.title(\"First 10 Countries with the highest Consumer Rating\")\n",
    "plt.xticks(rotation=90)\n",
    "plt.ylim([0,5])\n",
    "plt.xlabel(\"Country\")\n",
    "plt.ylabel(\"Rating\")\n",
    "plt.show()"
   ]
  },
  {
   "cell_type": "code",
   "execution_count": 71,
   "id": "4743c46f",
   "metadata": {
    "scrolled": true
   },
   "outputs": [
    {
     "data": {
      "text/html": [
       "<div>\n",
       "<style scoped>\n",
       "    .dataframe tbody tr th:only-of-type {\n",
       "        vertical-align: middle;\n",
       "    }\n",
       "\n",
       "    .dataframe tbody tr th {\n",
       "        vertical-align: top;\n",
       "    }\n",
       "\n",
       "    .dataframe thead th {\n",
       "        text-align: right;\n",
       "    }\n",
       "</style>\n",
       "<table border=\"1\" class=\"dataframe\">\n",
       "  <thead>\n",
       "    <tr style=\"text-align: right;\">\n",
       "      <th></th>\n",
       "      <th>company_location</th>\n",
       "      <th>rating</th>\n",
       "    </tr>\n",
       "  </thead>\n",
       "  <tbody>\n",
       "    <tr>\n",
       "      <th>8</th>\n",
       "      <td>Chile</td>\n",
       "      <td>3.75</td>\n",
       "    </tr>\n",
       "    <tr>\n",
       "      <th>46</th>\n",
       "      <td>Sao Tome</td>\n",
       "      <td>3.50</td>\n",
       "    </tr>\n",
       "    <tr>\n",
       "      <th>42</th>\n",
       "      <td>Poland</td>\n",
       "      <td>3.50</td>\n",
       "    </tr>\n",
       "    <tr>\n",
       "      <th>1</th>\n",
       "      <td>Argentina</td>\n",
       "      <td>3.50</td>\n",
       "    </tr>\n",
       "    <tr>\n",
       "      <th>60</th>\n",
       "      <td>U.A.E.</td>\n",
       "      <td>3.40</td>\n",
       "    </tr>\n",
       "  </tbody>\n",
       "</table>\n",
       "</div>"
      ],
      "text/plain": [
       "   company_location  rating\n",
       "8             Chile    3.75\n",
       "46         Sao Tome    3.50\n",
       "42           Poland    3.50\n",
       "1         Argentina    3.50\n",
       "60           U.A.E.    3.40"
      ]
     },
     "execution_count": 71,
     "metadata": {},
     "output_type": "execute_result"
    }
   ],
   "source": [
    "top_countries = df[[\"company_location\", \"rating\"]].groupby(\"company_location\").mean().reset_index().sort_values(by=\"rating\",ascending=False).head(10)\n",
    "top_countries.head()"
   ]
  },
  {
   "cell_type": "markdown",
   "id": "877ebc8c",
   "metadata": {},
   "source": [
    "- Chile: The chocolate bars in Chile have an average rating of 3.75 wich is the highest.\n",
    "- Sao Tome: The chocolate bars in Sao Tome have an average rating of 3.50.\n",
    "- Poland: The chocolate bars in Poland have an average rating of 3.50.\n",
    "- Argentina: The chocolate bars in Argentina have an average rating of 3.50.\n",
    "- U.A.E.: The chocolate bars in the United Arab Emirates (U.A.E.) have an average rating of 3.40.\n",
    "\n",
    "The ratings are based on some form of evaluation or feedback from consumers, where higher ratings generally indicate better quality or satisfaction with the chocolate bars."
   ]
  },
  {
   "cell_type": "markdown",
   "id": "afcfeac7",
   "metadata": {},
   "source": [
    "**Let's time travel, how has chocolate bar ratings done over the years**"
   ]
  },
  {
   "cell_type": "code",
   "execution_count": 72,
   "id": "6a54d818",
   "metadata": {
    "scrolled": false
   },
   "outputs": [
    {
     "data": {
      "image/png": "[encoded data removed]",
      "text/plain": [
       "<Figure size 864x576 with 1 Axes>"
      ]
     },
     "metadata": {
      "needs_background": "light"
     },
     "output_type": "display_data"
    }
   ],
   "source": [
    "top_movies = df[[\"year_reviewed\", \"rating\"]].groupby(\"year_reviewed\").mean().reset_index().sort_values(by=\"rating\",ascending=False).head(10)\n",
    "sns.lineplot(x=\"year_reviewed\", y =\"rating\", data=top_movies)\n",
    "plt.title(\"How has Chocolate Bar Ratings done Over Time on the Average\")\n",
    "#plt.xticks(rotation=90)\n",
    "#plt.ylim([0,3.5])\n",
    "plt.xlabel(\"Year\")\n",
    "plt.ylabel(\"Rating\")\n",
    "plt.show()"
   ]
  },
  {
   "cell_type": "code",
   "execution_count": 73,
   "id": "757ed877",
   "metadata": {
    "scrolled": true
   },
   "outputs": [
    {
     "data": {
      "text/html": [
       "<div>\n",
       "<style scoped>\n",
       "    .dataframe tbody tr th:only-of-type {\n",
       "        vertical-align: middle;\n",
       "    }\n",
       "\n",
       "    .dataframe tbody tr th {\n",
       "        vertical-align: top;\n",
       "    }\n",
       "\n",
       "    .dataframe thead th {\n",
       "        text-align: right;\n",
       "    }\n",
       "</style>\n",
       "<table border=\"1\" class=\"dataframe\">\n",
       "  <thead>\n",
       "    <tr style=\"text-align: right;\">\n",
       "      <th></th>\n",
       "      <th>year_reviewed</th>\n",
       "      <th>rating</th>\n",
       "    </tr>\n",
       "  </thead>\n",
       "  <tbody>\n",
       "    <tr>\n",
       "      <th>11</th>\n",
       "      <td>2017</td>\n",
       "      <td>3.364078</td>\n",
       "    </tr>\n",
       "    <tr>\n",
       "      <th>15</th>\n",
       "      <td>2021</td>\n",
       "      <td>3.323099</td>\n",
       "    </tr>\n",
       "    <tr>\n",
       "      <th>5</th>\n",
       "      <td>2011</td>\n",
       "      <td>3.271242</td>\n",
       "    </tr>\n",
       "    <tr>\n",
       "      <th>14</th>\n",
       "      <td>2020</td>\n",
       "      <td>3.256173</td>\n",
       "    </tr>\n",
       "    <tr>\n",
       "      <th>9</th>\n",
       "      <td>2015</td>\n",
       "      <td>3.243750</td>\n",
       "    </tr>\n",
       "  </tbody>\n",
       "</table>\n",
       "</div>"
      ],
      "text/plain": [
       "    year_reviewed    rating\n",
       "11           2017  3.364078\n",
       "15           2021  3.323099\n",
       "5            2011  3.271242\n",
       "14           2020  3.256173\n",
       "9            2015  3.243750"
      ]
     },
     "execution_count": 73,
     "metadata": {},
     "output_type": "execute_result"
    }
   ],
   "source": [
    "top_movies = df[[\"year_reviewed\", \"rating\"]].groupby(\"year_reviewed\").mean().reset_index().sort_values(by=\"rating\",ascending=False).head()\n",
    "top_movies"
   ]
  },
  {
   "cell_type": "markdown",
   "id": "58d7d66a",
   "metadata": {},
   "source": [
    "So we when back in time and obserevd the rise and fall of the ratings till present day. Looking at the line graph it's obvious ratings rose over time on the average. 2017 with a rating of 3.36 though the higest kind of looks like an anomaly, the reason for the spike may be checked later. we can also go into the furture to predict if the ratings will continue to increase or drop, but we will not be travelling into the future in this research."
   ]
  },
  {
   "cell_type": "markdown",
   "id": "cfc9e234",
   "metadata": {},
   "source": [
    "**Let's break some columns into numerical categories so they are easier to work with**"
   ]
  },
  {
   "cell_type": "code",
   "execution_count": 131,
   "id": "5fa054bb",
   "metadata": {
    "scrolled": true
   },
   "outputs": [],
   "source": [
    "fg = df.copy()\n",
    "fg['nbean_origin'] = fg['bean_origin'].astype('category').cat.codes\n",
    "fg[\"nmanufacturer\"] = fg[\"manufacturer\"].astype('category').cat.codes\n",
    "fg[\"ncompany_location\"] = fg[\"company_location\"].astype('category').cat.codes\n",
    "fg[\"ningredients\"] = fg[\"ingredients\"].astype('category').cat.codes\n",
    "fg[\"nreview\"] = fg[\"review\"].astype('category').cat.codes\n",
    "fg[\"nrating_system\"] = fg[\"rating_system\"].astype('category').cat.codes\n",
    "fg['ncocoa_percent'] = fg['cocoa_percent'].astype('category').cat.codes\n",
    "fg['nnum_ingredients'] = fg['num_ingredients'].astype('category').cat.codes"
   ]
  },
  {
   "cell_type": "markdown",
   "id": "09928372",
   "metadata": {},
   "source": [
    "**'astype('category').cat.codes' performs categorical encoding on the columns.**"
   ]
  },
  {
   "cell_type": "markdown",
   "id": "573d2099",
   "metadata": {},
   "source": [
    "**Let's see if manufacturers and ratings have a relationship**"
   ]
  },
  {
   "cell_type": "code",
   "execution_count": 132,
   "id": "f6d0c170",
   "metadata": {},
   "outputs": [
    {
     "data": {
      "image/png": "[encoded data removed]",
      "text/plain": [
       "<Figure size 864x576 with 1 Axes>"
      ]
     },
     "metadata": {
      "needs_background": "light"
     },
     "output_type": "display_data"
    }
   ],
   "source": [
    "sns.regplot(x=\"nmanufacturer\", y=\"nrating_system\", data=fg, scatter_kws={\"color\":\"red\"}, line_kws={\"color\":\"blue\"})\n",
    "\n",
    "plt.title(\"Manufacturer vs Rating\")\n",
    "\n",
    "plt.xlabel('Manufacturer')\n",
    "\n",
    "plt.ylabel('Rating')\n",
    "\n",
    "plt.show()"
   ]
  },
  {
   "cell_type": "code",
   "execution_count": 76,
   "id": "8a05d9ec",
   "metadata": {},
   "outputs": [
    {
     "name": "stdout",
     "output_type": "stream",
     "text": [
      "0.013814960931276236\n"
     ]
    }
   ],
   "source": [
    "correlation = fg['nmanufacturer'].corr(fg['nrating_system'])\n",
    "print(correlation)"
   ]
  },
  {
   "cell_type": "markdown",
   "id": "e9d044a7",
   "metadata": {},
   "source": [
    "The correlation coefficient between \"chocolate bar manufacturers\" and \"customer rating\" of 0.0138 suggests that there is a minimal positive association between the specific chocolate bar manufacturers and the ratings provided by customers. However, the correlation is close to zero, indicating that there is almost no linear relationship between these variables. In other words, the manufacturer of the chocolate bar does not strongly influence the customer ratings."
   ]
  },
  {
   "cell_type": "markdown",
   "id": "dbd6eb0e",
   "metadata": {},
   "source": [
    "**Let's see if Company's locaton determines how the chocolate bars where rated**"
   ]
  },
  {
   "cell_type": "code",
   "execution_count": 77,
   "id": "ee3a7464",
   "metadata": {},
   "outputs": [
    {
     "data": {
      "image/png": "[encoded data removed]",
      "text/plain": [
       "<Figure size 864x576 with 1 Axes>"
      ]
     },
     "metadata": {
      "needs_background": "light"
     },
     "output_type": "display_data"
    }
   ],
   "source": [
    "sns.regplot(x=\"ncompany_location\", y=\"nrating_system\", data=fg, scatter_kws={\"color\":\"red\"}, line_kws={\"color\":\"blue\"})\n",
    "\n",
    "plt.title(\"Country vs Rating\")\n",
    "\n",
    "plt.xlabel('Country')\n",
    "\n",
    "plt.ylabel('Rating')\n",
    "\n",
    "plt.show()"
   ]
  },
  {
   "cell_type": "code",
   "execution_count": 78,
   "id": "14e9f0a0",
   "metadata": {},
   "outputs": [
    {
     "name": "stdout",
     "output_type": "stream",
     "text": [
      "-0.03631529000139432\n"
     ]
    }
   ],
   "source": [
    "correlation = fg['ncompany_location'].corr(fg['nrating_system'])\n",
    "print(correlation)"
   ]
  },
  {
   "cell_type": "markdown",
   "id": "99f6e5c2",
   "metadata": {},
   "source": [
    "The correlation coefficient of -0.0363 between chocolate bar company location and customer rating suggests a very weak negative relationship between these two variables.\n",
    "In this case, the value of -0.0363 indicates a close-to-zero negative correlation, which implies that there is almost no linear relationship between the company location and customer rating.\n",
    "\n",
    "Interpreting this correlation, we can say that there is no significant or meaningful association between the location of the chocolate bar company and the ratings given by customers. In other words, the location of the company does not have a noticeable impact on the ratings assigned by customers. Other factors, such as the quality of the chocolate, ingredients, brand reputation, or marketing, may have a more significant influence on customer ratings."
   ]
  },
  {
   "cell_type": "markdown",
   "id": "0ecaa3f5",
   "metadata": {},
   "source": [
    "**Let's see if origin country of the chocolate bean determines how the chocolate bars where rated**"
   ]
  },
  {
   "cell_type": "code",
   "execution_count": 79,
   "id": "71fb974b",
   "metadata": {},
   "outputs": [
    {
     "data": {
      "image/png": "[encoded data removed]",
      "text/plain": [
       "<Figure size 864x576 with 1 Axes>"
      ]
     },
     "metadata": {
      "needs_background": "light"
     },
     "output_type": "display_data"
    }
   ],
   "source": [
    "sns.regplot(x=\"nbean_origin\", y=\"nrating_system\", data=fg, scatter_kws={\"color\":\"red\"}, line_kws={\"color\":\"blue\"})\n",
    "\n",
    "plt.title(\"Bean Origin vs Rating\")\n",
    "\n",
    "plt.xlabel('Bean Origin')\n",
    "\n",
    "plt.ylabel('Rating')\n",
    "\n",
    "plt.show()"
   ]
  },
  {
   "cell_type": "code",
   "execution_count": 80,
   "id": "e030897b",
   "metadata": {},
   "outputs": [
    {
     "name": "stdout",
     "output_type": "stream",
     "text": [
      "-0.009816837573234134\n"
     ]
    }
   ],
   "source": [
    "correlation = fg['nbean_origin'].corr(fg['nrating_system'])\n",
    "print(correlation)"
   ]
  },
  {
   "cell_type": "markdown",
   "id": "aa50aa80",
   "metadata": {},
   "source": [
    "The correlation coefficient of -0.0098 indicates a weak and almost negligible correlation between the chocolate bean's country of origin and customer rating.\n",
    "\n",
    "In this case, the correlation coefficient being close to 0 (-0.0098) suggests that there is almost no linear relationship between the country of origin of the chocolate bean and the customer rating.\n",
    "\n",
    "In other words, knowing the country of origin of the chocolate bean does not provide much information or influence on the customer rating"
   ]
  },
  {
   "cell_type": "markdown",
   "id": "52ae727a",
   "metadata": {},
   "source": [
    "**Let's see if the percentage of cocoa in the chocolate bars has an effect on the way the chocolate bars where rated**"
   ]
  },
  {
   "cell_type": "code",
   "execution_count": 81,
   "id": "d31104d0",
   "metadata": {},
   "outputs": [
    {
     "data": {
      "image/png": "[encoded data removed]",
      "text/plain": [
       "<Figure size 864x576 with 1 Axes>"
      ]
     },
     "metadata": {
      "needs_background": "light"
     },
     "output_type": "display_data"
    }
   ],
   "source": [
    "sns.regplot(x=\"cocoa_percent\", y=\"nrating_system\", data=fg, scatter_kws={\"color\":\"red\"}, line_kws={\"color\":\"blue\"})\n",
    "\n",
    "plt.title(\"Cocoa Percent vs Rating\")\n",
    "\n",
    "plt.xlabel('Cocoa Percent')\n",
    "\n",
    "plt.ylabel('Rating')\n",
    "\n",
    "plt.show()"
   ]
  },
  {
   "cell_type": "code",
   "execution_count": 82,
   "id": "99947866",
   "metadata": {},
   "outputs": [
    {
     "name": "stdout",
     "output_type": "stream",
     "text": [
      "-0.02436304518822164\n"
     ]
    }
   ],
   "source": [
    "correlation = fg['cocoa_percent'].corr(fg['nrating_system'])\n",
    "print(correlation)"
   ]
  },
  {
   "cell_type": "markdown",
   "id": "7ff2728e",
   "metadata": {},
   "source": [
    "A correlation coefficient of -0.02436 indicates a very weak and almost negligible negative correlation between the percentage of cocoa in the chocolate bars and customer rating.\n",
    "\n",
    "The negative sign of the correlation coefficient suggests that there is a very slight tendency for higher cocoa percentages to be associated with slightly lower customer ratings. However, the magnitude of the correlation coefficient is very close to zero, indicating that there is essentially no meaningful relationship between these two variables.\n",
    "\n",
    "In practical terms, this means that the percentage of cocoa in the chocolate bars has almost no impact on the customer rating. Other factors, such as taste, texture, brand reputation, or individual preferences, likely play a much more significant role in determining the ratings given by customers."
   ]
  },
  {
   "cell_type": "markdown",
   "id": "4f39e4e7",
   "metadata": {},
   "source": [
    "**Let's see if the number of ingredients in the chocolate bars has an effect on the way the chocolate bars where rated**"
   ]
  },
  {
   "cell_type": "code",
   "execution_count": 83,
   "id": "917484e4",
   "metadata": {
    "scrolled": false
   },
   "outputs": [
    {
     "data": {
      "image/png": "[encoded data removed]",
      "text/plain": [
       "<Figure size 864x576 with 1 Axes>"
      ]
     },
     "metadata": {
      "needs_background": "light"
     },
     "output_type": "display_data"
    }
   ],
   "source": [
    "sns.regplot(x=\"num_ingredients\", y=\"nrating_system\", data=fg, scatter_kws={\"color\":\"red\"}, line_kws={\"color\":\"blue\"})\n",
    "\n",
    "plt.title(\"Number of Ingredients vs Rating\")\n",
    "\n",
    "plt.xlabel('Number of Ingredient')\n",
    "\n",
    "plt.ylabel('Rating')\n",
    "\n",
    "plt.show()"
   ]
  },
  {
   "cell_type": "code",
   "execution_count": 84,
   "id": "fa247d67",
   "metadata": {},
   "outputs": [
    {
     "name": "stdout",
     "output_type": "stream",
     "text": [
      "-0.05211947736706437\n"
     ]
    }
   ],
   "source": [
    "correlation = fg['num_ingredients'].corr(fg['nrating_system'])\n",
    "print(correlation)"
   ]
  },
  {
   "cell_type": "markdown",
   "id": "a82c906b",
   "metadata": {},
   "source": [
    "The correlation coefficient of -0.0521 suggests a weak negative correlation between the number of ingredients in chocolate bars and customer ratings.\n",
    "\n",
    "Interpreting this correlation coefficient means that as the number of ingredients in chocolate bars increases, there is a slight tendency for customer ratings to decrease slightly. However, the correlation is weak, indicating that the relationship is not strong or consistent."
   ]
  },
  {
   "cell_type": "markdown",
   "id": "43d1f90b",
   "metadata": {},
   "source": [
    "**Let's see if the year chocolate bars where reviewed has an effect on the way the chocolate bars where rated**"
   ]
  },
  {
   "cell_type": "code",
   "execution_count": 85,
   "id": "14a0a1d5",
   "metadata": {},
   "outputs": [
    {
     "data": {
      "image/png": "[encoded data removed]",
      "text/plain": [
       "<Figure size 864x576 with 1 Axes>"
      ]
     },
     "metadata": {
      "needs_background": "light"
     },
     "output_type": "display_data"
    }
   ],
   "source": [
    "sns.regplot(x=\"year_reviewed\", y=\"nrating_system\", data=fg, scatter_kws={\"color\":\"red\"}, line_kws={\"color\":\"blue\"})\n",
    "\n",
    "plt.title(\"Year Reviewed vs Rating\")\n",
    "\n",
    "plt.xlabel('Year Reviewed')\n",
    "\n",
    "plt.ylabel('Rating')\n",
    "\n",
    "plt.show()"
   ]
  },
  {
   "cell_type": "code",
   "execution_count": 86,
   "id": "637e37ef",
   "metadata": {},
   "outputs": [
    {
     "name": "stdout",
     "output_type": "stream",
     "text": [
      "0.0936952047750396\n"
     ]
    }
   ],
   "source": [
    "correlation = fg['year_reviewed'].corr(fg['nrating_system'])\n",
    "print(correlation)"
   ]
  },
  {
   "cell_type": "markdown",
   "id": "eed8cccb",
   "metadata": {},
   "source": [
    "Interpreting the correlation coefficient, we can say that there is a slight tendency for higher customer ratings to be associated with more recent years of chocolate bar reviews. However, the correlation is weak, meaning that the relationship is not very strong or reliable. Other factors beyond the year of review likely have a greater influence on the customer ratings."
   ]
  },
  {
   "cell_type": "code",
   "execution_count": 124,
   "id": "13bc2881",
   "metadata": {},
   "outputs": [
    {
     "name": "stdout",
     "output_type": "stream",
     "text": [
      "0.3170204476023252\n"
     ]
    }
   ],
   "source": [
    "correlation = fg['ratio'].corr(fg['nrating_system'])\n",
    "print(correlation)"
   ]
  },
  {
   "cell_type": "markdown",
   "id": "c3de5f79",
   "metadata": {},
   "source": [
    "## Conclusion"
   ]
  },
  {
   "cell_type": "markdown",
   "id": "a631b5bb",
   "metadata": {},
   "source": [
    "After embarking on an epic quest, I've discovered that the consumer rating of chocolate bars cannot be solely attributed to any single factor. It seems like a spellbinding mix of marketing enchantments, the ancient origins of the company, the whimsical distribution methods, and so much more, all have a mesmerizing influence on the final rating. To unravel the recipe for chocolaty triumph and achieve soaring ratings, we must embark on a grand adventure to gather more data and unleash the powers of further analysis! Let the chocolatey odyssey begin!\n",
    "\n",
    "The cocoa percentage in chocolate bars has almost no impact on customer preferences. A correlation coefficient of -0.02436 indicates a very weak and negligible negative correlation. Other factors like taste, texture, brand reputation, and individual preferences play a more significant role in determining consumer ratings.\n",
    "\n",
    "The country of origin does not have a substantial influence on chocolate bar perceptions. The correlation coefficient of -0.0363 suggests a weak negative relationship between the location of the chocolate bar company and customer rating. This close-to-zero correlation implies that there is almost no linear relationship between company location and customer rating.\n",
    "\n",
    "In practical terms, this means that the location of the chocolate bar company has no significant impact on customer ratings. Other factors, such as chocolate quality, ingredients, brand reputation, and marketing, play a more significant role in shaping customer perceptions and ratings."
   ]
  },
  {
   "cell_type": "code",
   "execution_count": null,
   "id": "fba7bbc5",
   "metadata": {},
   "outputs": [],
   "source": []
  }
 ],
 "metadata": {
  "kernelspec": {
   "display_name": "Python 3 (ipykernel)",
   "language": "python",
   "name": "python3"
  },
  "language_info": {
   "codemirror_mode": {
    "name": "ipython",
    "version": 3
   },
   "file_extension": ".py",
   "mimetype": "text/x-python",
   "name": "python",
   "nbconvert_exporter": "python",
   "pygments_lexer": "ipython3",
   "version": "3.9.13"
  }
 },
 "nbformat": 4,
 "nbformat_minor": 5
}
